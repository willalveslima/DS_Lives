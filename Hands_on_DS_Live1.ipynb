{
 "cells": [
  {
   "cell_type": "markdown",
   "id": "78e618d2-30bf-40a1-856e-1c213ef3bd19",
   "metadata": {},
   "source": [
    "# AcademIA BB - Ciência de Dados\n",
    "\n",
    "Bem vindos e bem vindas à AcademIA BB! Esse material faz parte do eixo de Ciência de Dados e contém o conteúdo que será desenvolvido nas Lives. \n",
    "\n",
    "O conteúdo é baseado em uma premissa \"mãos na massa\", então os conceitos serão explicados à medida que são apresentados por meio do código.\n",
    "\n",
    "\n",
    "Projetos de ciências de dados seguem alguns passos, vamos dividir os nossos em 5:\n",
    "\n",
    "1. Investigar o quadro geral\n",
    "2. Obter os dados.\n",
    "3. Descobrir e visualizar os dados para obter insights.\n",
    "4. Preparar os dados para algoritmos de Aprendizado de Máquina.\n",
    "5. Selecionar um modelo e treina-lo.\n",
    "\n",
    "\n",
    "No primeiro passo, é aferida a disponibilidade dos dados que são importantes para o problema. No nosso caso, vamos estudar um problema de rotatividade de clientes do cartão de crédito. Esses dados devem ser obtidos e importados para nosso ambiente de desenvolvimento para que possamos acessá-lo pelo Python.\n",
    "\n",
    "\n",
    "## Caso de Estudo\n",
    "\n",
    "Um gerente do banco está incomodado com o fato de cada vez mais clientes abandonarem os serviços de cartão de crédito. Eles realmente apreciariam se alguém pudesse prever quem será desligado, para que possam ir proativamente ao cliente para fornecer-lhes melhores serviços e direcionar as decisões dos clientes na direção oposta.\n",
    "\n",
    "No nosso exemplo, os clientes estão abandonando os serviços de cartão de crédito e queremos buscar hipóteses que expliquem esse comportamento. Para entender e explorar esse comportamento, vamos analisar os dados dos clientes que abandonaram ou não o serviço. Esses dados podem ou não conter insights sobre a evasão do serviço, mas para aferir essa situação, precisamos primeiro entender quais dados estão disponíveis e como eles poderiam afetar a decisão de evadir ou não.\n",
    "\n",
    "\n",
    "Os dados dos clientes serão disponibilizados e passaremos para o próximo passo, que é importar os dados para nosso ambiente de desenvolvimento."
   ]
  },
  {
   "cell_type": "markdown",
   "id": "83ea409d-1829-47d4-ab3e-3e9576758fbd",
   "metadata": {},
   "source": [
    "### Importando dados\n",
    "\n",
    "Temos um conjunto de dados que possue várias informações dos clientes. Esses dados nos foram disponibilizados através de um arquivo CSV, ou seja, os dados estão no formato de texto separado por vírgulas. \n",
    "\n",
    "Esse tipo de arquivo possui dados estruturados em linhas e colunas, o que é muito comum e considerado padrão na ciência de dados. A primeira linha de nosso arquivo de texto possuirá o nome de cada uma de nossas colunas, separados por vírgulas. Todas as outras linhas são consideradas 'observações', ou seja, valores para cada coluna de nosso conjunto. Uma linha possui, portanto, um valor por coluna e o número de valores de cada linha deve corresponder ao número de colunas.\n",
    "\n",
    "Esse arquivo possui os dados mas nosso ambiente de desenvolvimento Python ainda não tem acesso a eles. Vamos então importar os dados para nosso ambiente.\n"
   ]
  },
  {
   "cell_type": "code",
   "execution_count": null,
   "id": "ec9c1961-ce59-4e87-bfe0-479ff17d0bc7",
   "metadata": {},
   "outputs": [],
   "source": [
    "## Instalação das bibliotecas no LabbLite\n",
    "# Retire os comentários para instalar as bibliotecas no LabbLite.\n",
    "# As bibliotecas sklearn, pandas, numpy e matplotlib já deveriam estar instaladas\n",
    "# por padrão. Caso não estejam, instalar com o comando pip\n",
    "#import micropip \n",
    "#await micropip.install('seaborn')\n",
    "#await micropip.install('imblearn')"
   ]
  },
  {
   "cell_type": "code",
   "execution_count": 1,
   "id": "09293292-0bbb-4ae8-b84e-7744fdb1c3de",
   "metadata": {},
   "outputs": [],
   "source": [
    "import pandas as pd # Primeiro vamos importar a biblioteca Pandas para poder manipular o arquivo\n",
    "\n",
    "df = pd.read_csv('bases/ds_dataset_002.csv',sep=';') # Agora vamos importar os dados e atribuir à variável df"
   ]
  },
  {
   "cell_type": "markdown",
   "id": "996e5c70-de78-4509-bd8f-d1103b0af632",
   "metadata": {},
   "source": [
    "### Observando os valores de nosso DataFrame\n",
    "\n",
    "Percebemos que mesmo depois de executar a célula acima, os valores de nosso conjunto de dados não aparecem na tela. Isso por que apenas importamos o conjunto de dados para nosso ambiente de desenvolvimento mas ainda não os escrevemos na tela. \n",
    "\n",
    "Conjuntos de dados costumam ter centenas senão centenas de milhares ou até milhões de linhas. Não se costuma, portanto, visualizar todos os valores de um conjunto de dados e sim apenas algumas linhas. "
   ]
  },
  {
   "cell_type": "code",
   "execution_count": 2,
   "id": "ed0fe4a7-b09d-4d5f-b9ed-451d3bf4bd13",
   "metadata": {},
   "outputs": [
    {
     "data": {
      "text/html": [
       "<div>\n",
       "<style scoped>\n",
       "    .dataframe tbody tr th:only-of-type {\n",
       "        vertical-align: middle;\n",
       "    }\n",
       "\n",
       "    .dataframe tbody tr th {\n",
       "        vertical-align: top;\n",
       "    }\n",
       "\n",
       "    .dataframe thead th {\n",
       "        text-align: right;\n",
       "    }\n",
       "</style>\n",
       "<table border=\"1\" class=\"dataframe\">\n",
       "  <thead>\n",
       "    <tr style=\"text-align: right;\">\n",
       "      <th></th>\n",
       "      <th>Indicador</th>\n",
       "      <th>Idade</th>\n",
       "      <th>Genero</th>\n",
       "      <th>Dependentes</th>\n",
       "      <th>Escolaridade</th>\n",
       "      <th>Estado_Civil</th>\n",
       "      <th>Renda</th>\n",
       "      <th>Cartao</th>\n",
       "      <th>Limite_Credito</th>\n",
       "    </tr>\n",
       "  </thead>\n",
       "  <tbody>\n",
       "    <tr>\n",
       "      <th>0</th>\n",
       "      <td>0</td>\n",
       "      <td>45</td>\n",
       "      <td>M</td>\n",
       "      <td>3</td>\n",
       "      <td>Ensino Médio Completo</td>\n",
       "      <td>Casado</td>\n",
       "      <td>De 60 Mil a 80 Mil</td>\n",
       "      <td>Blue</td>\n",
       "      <td>12691.0</td>\n",
       "    </tr>\n",
       "    <tr>\n",
       "      <th>1</th>\n",
       "      <td>0</td>\n",
       "      <td>49</td>\n",
       "      <td>F</td>\n",
       "      <td>5</td>\n",
       "      <td>Pós-Graduação</td>\n",
       "      <td>Solteiro</td>\n",
       "      <td>Menos de 40 Mil</td>\n",
       "      <td>Blue</td>\n",
       "      <td>8256.0</td>\n",
       "    </tr>\n",
       "    <tr>\n",
       "      <th>2</th>\n",
       "      <td>0</td>\n",
       "      <td>51</td>\n",
       "      <td>M</td>\n",
       "      <td>3</td>\n",
       "      <td>Pós-Graduação</td>\n",
       "      <td>Casado</td>\n",
       "      <td>De 80 Mil a 120 Mil</td>\n",
       "      <td>Blue</td>\n",
       "      <td>3418.0</td>\n",
       "    </tr>\n",
       "    <tr>\n",
       "      <th>3</th>\n",
       "      <td>0</td>\n",
       "      <td>40</td>\n",
       "      <td>F</td>\n",
       "      <td>4</td>\n",
       "      <td>Ensino Médio Completo</td>\n",
       "      <td>NaN</td>\n",
       "      <td>Menos de 40 Mil</td>\n",
       "      <td>Blue</td>\n",
       "      <td>3313.0</td>\n",
       "    </tr>\n",
       "    <tr>\n",
       "      <th>4</th>\n",
       "      <td>0</td>\n",
       "      <td>40</td>\n",
       "      <td>M</td>\n",
       "      <td>3</td>\n",
       "      <td>Sem Escolaridade</td>\n",
       "      <td>Casado</td>\n",
       "      <td>De 60 Mil a 80 Mil</td>\n",
       "      <td>Blue</td>\n",
       "      <td>4716.0</td>\n",
       "    </tr>\n",
       "    <tr>\n",
       "      <th>5</th>\n",
       "      <td>0</td>\n",
       "      <td>44</td>\n",
       "      <td>M</td>\n",
       "      <td>2</td>\n",
       "      <td>Pós-Graduação</td>\n",
       "      <td>Casado</td>\n",
       "      <td>De 40 Mil a 60 Mil</td>\n",
       "      <td>Blue</td>\n",
       "      <td>4010.0</td>\n",
       "    </tr>\n",
       "    <tr>\n",
       "      <th>6</th>\n",
       "      <td>0</td>\n",
       "      <td>51</td>\n",
       "      <td>M</td>\n",
       "      <td>4</td>\n",
       "      <td>Desconhecido</td>\n",
       "      <td>Casado</td>\n",
       "      <td>Mais de 120 Mil</td>\n",
       "      <td>Gold</td>\n",
       "      <td>34516.0</td>\n",
       "    </tr>\n",
       "    <tr>\n",
       "      <th>7</th>\n",
       "      <td>0</td>\n",
       "      <td>32</td>\n",
       "      <td>M</td>\n",
       "      <td>0</td>\n",
       "      <td>Ensino Médio Completo</td>\n",
       "      <td>NaN</td>\n",
       "      <td>De 60 Mil a 80 Mil</td>\n",
       "      <td>Silver</td>\n",
       "      <td>29081.0</td>\n",
       "    </tr>\n",
       "    <tr>\n",
       "      <th>8</th>\n",
       "      <td>0</td>\n",
       "      <td>37</td>\n",
       "      <td>M</td>\n",
       "      <td>3</td>\n",
       "      <td>Sem Escolaridade</td>\n",
       "      <td>Solteiro</td>\n",
       "      <td>De 60 Mil a 80 Mil</td>\n",
       "      <td>Blue</td>\n",
       "      <td>22352.0</td>\n",
       "    </tr>\n",
       "    <tr>\n",
       "      <th>9</th>\n",
       "      <td>0</td>\n",
       "      <td>48</td>\n",
       "      <td>M</td>\n",
       "      <td>2</td>\n",
       "      <td>Pós-Graduação</td>\n",
       "      <td>Solteiro</td>\n",
       "      <td>De 80 Mil a 120 Mil</td>\n",
       "      <td>Blue</td>\n",
       "      <td>11656.0</td>\n",
       "    </tr>\n",
       "  </tbody>\n",
       "</table>\n",
       "</div>"
      ],
      "text/plain": [
       "   Indicador  Idade Genero  Dependentes           Escolaridade Estado_Civil  \\\n",
       "0          0     45      M            3  Ensino Médio Completo       Casado   \n",
       "1          0     49      F            5          Pós-Graduação     Solteiro   \n",
       "2          0     51      M            3          Pós-Graduação       Casado   \n",
       "3          0     40      F            4  Ensino Médio Completo          NaN   \n",
       "4          0     40      M            3       Sem Escolaridade       Casado   \n",
       "5          0     44      M            2          Pós-Graduação       Casado   \n",
       "6          0     51      M            4           Desconhecido       Casado   \n",
       "7          0     32      M            0  Ensino Médio Completo          NaN   \n",
       "8          0     37      M            3       Sem Escolaridade     Solteiro   \n",
       "9          0     48      M            2          Pós-Graduação     Solteiro   \n",
       "\n",
       "                 Renda  Cartao  Limite_Credito  \n",
       "0   De 60 Mil a 80 Mil    Blue         12691.0  \n",
       "1      Menos de 40 Mil    Blue          8256.0  \n",
       "2  De 80 Mil a 120 Mil    Blue          3418.0  \n",
       "3      Menos de 40 Mil    Blue          3313.0  \n",
       "4   De 60 Mil a 80 Mil    Blue          4716.0  \n",
       "5   De 40 Mil a 60 Mil    Blue          4010.0  \n",
       "6      Mais de 120 Mil    Gold         34516.0  \n",
       "7   De 60 Mil a 80 Mil  Silver         29081.0  \n",
       "8   De 60 Mil a 80 Mil    Blue         22352.0  \n",
       "9  De 80 Mil a 120 Mil    Blue         11656.0  "
      ]
     },
     "execution_count": 2,
     "metadata": {},
     "output_type": "execute_result"
    }
   ],
   "source": [
    "df.head(10) # Esse comando nos mostra as 5 primeiras linhas do arquivo importado"
   ]
  },
  {
   "cell_type": "markdown",
   "id": "c8441dd6-70e7-4077-b51c-f0127ef3f7b4",
   "metadata": {},
   "source": [
    "## Descrevendo um conjunto de dados\n",
    "\n",
    "Conjuntos de dados possuem diversas informações que podem descrevê-los. A análise realizada para descrever o conjunto de dados é chamada 'Análise Descritiva'. Essa análise busca descrever o conjunto a partir do que chamamos de 'medidas resumo' que, como o nome diz, resumem e sintetizam informações sobre o conjunto inteiro. Por exemplo, a partir de uma lista de idades é possível obter o valor médio das idades, que corresponde à soma de todas os valores dividida pelo número total de observações. Algumas informações sobre o conjunto podem ser obtidas facilmente a partir da observação simples do conjunto, como\n",
    "- Número de observações\n",
    "- Tipo de dados\n",
    "    - Quantitativos\n",
    "    - Qualitativos\n",
    "- Valores mínimos e máximos\n",
    "- Ordenação dos valores\n",
    "\n"
   ]
  },
  {
   "cell_type": "markdown",
   "id": "3b74aa10-91e1-4494-8d9f-2bcb7ddf75aa",
   "metadata": {},
   "source": [
    "Para acessar uma coluna do nosso DataFrame, utiliza-se o colchete `[]` com o nome da coluna desejada. É possível selecionar mais de uma coluna utilizando dois colchetes `[[]]`, como no exemplo abaixo."
   ]
  },
  {
   "cell_type": "code",
   "execution_count": 3,
   "id": "4fb9d5ca-f969-4add-9b85-bd3a137d3442",
   "metadata": {},
   "outputs": [
    {
     "data": {
      "text/plain": [
       "0        0\n",
       "1        0\n",
       "2        0\n",
       "3        0\n",
       "4        0\n",
       "        ..\n",
       "10122    0\n",
       "10123    1\n",
       "10124    1\n",
       "10125    1\n",
       "10126    1\n",
       "Name: Indicador, Length: 10127, dtype: int64"
      ]
     },
     "execution_count": 3,
     "metadata": {},
     "output_type": "execute_result"
    }
   ],
   "source": [
    "df['Indicador']"
   ]
  },
  {
   "cell_type": "code",
   "execution_count": 4,
   "id": "6d4feeb3-2648-4c5d-adc3-bba816c200ea",
   "metadata": {},
   "outputs": [
    {
     "data": {
      "text/html": [
       "<div>\n",
       "<style scoped>\n",
       "    .dataframe tbody tr th:only-of-type {\n",
       "        vertical-align: middle;\n",
       "    }\n",
       "\n",
       "    .dataframe tbody tr th {\n",
       "        vertical-align: top;\n",
       "    }\n",
       "\n",
       "    .dataframe thead th {\n",
       "        text-align: right;\n",
       "    }\n",
       "</style>\n",
       "<table border=\"1\" class=\"dataframe\">\n",
       "  <thead>\n",
       "    <tr style=\"text-align: right;\">\n",
       "      <th></th>\n",
       "      <th>Indicador</th>\n",
       "      <th>Genero</th>\n",
       "    </tr>\n",
       "  </thead>\n",
       "  <tbody>\n",
       "    <tr>\n",
       "      <th>0</th>\n",
       "      <td>0</td>\n",
       "      <td>M</td>\n",
       "    </tr>\n",
       "    <tr>\n",
       "      <th>1</th>\n",
       "      <td>0</td>\n",
       "      <td>F</td>\n",
       "    </tr>\n",
       "    <tr>\n",
       "      <th>2</th>\n",
       "      <td>0</td>\n",
       "      <td>M</td>\n",
       "    </tr>\n",
       "    <tr>\n",
       "      <th>3</th>\n",
       "      <td>0</td>\n",
       "      <td>F</td>\n",
       "    </tr>\n",
       "    <tr>\n",
       "      <th>4</th>\n",
       "      <td>0</td>\n",
       "      <td>M</td>\n",
       "    </tr>\n",
       "    <tr>\n",
       "      <th>...</th>\n",
       "      <td>...</td>\n",
       "      <td>...</td>\n",
       "    </tr>\n",
       "    <tr>\n",
       "      <th>10122</th>\n",
       "      <td>0</td>\n",
       "      <td>M</td>\n",
       "    </tr>\n",
       "    <tr>\n",
       "      <th>10123</th>\n",
       "      <td>1</td>\n",
       "      <td>M</td>\n",
       "    </tr>\n",
       "    <tr>\n",
       "      <th>10124</th>\n",
       "      <td>1</td>\n",
       "      <td>F</td>\n",
       "    </tr>\n",
       "    <tr>\n",
       "      <th>10125</th>\n",
       "      <td>1</td>\n",
       "      <td>M</td>\n",
       "    </tr>\n",
       "    <tr>\n",
       "      <th>10126</th>\n",
       "      <td>1</td>\n",
       "      <td>F</td>\n",
       "    </tr>\n",
       "  </tbody>\n",
       "</table>\n",
       "<p>10127 rows × 2 columns</p>\n",
       "</div>"
      ],
      "text/plain": [
       "       Indicador Genero\n",
       "0              0      M\n",
       "1              0      F\n",
       "2              0      M\n",
       "3              0      F\n",
       "4              0      M\n",
       "...          ...    ...\n",
       "10122          0      M\n",
       "10123          1      M\n",
       "10124          1      F\n",
       "10125          1      M\n",
       "10126          1      F\n",
       "\n",
       "[10127 rows x 2 columns]"
      ]
     },
     "execution_count": 4,
     "metadata": {},
     "output_type": "execute_result"
    }
   ],
   "source": [
    "df[['Indicador','Genero']]"
   ]
  },
  {
   "cell_type": "code",
   "execution_count": 5,
   "id": "303ea290-99ff-4cd3-a75a-6585a4f40693",
   "metadata": {},
   "outputs": [
    {
     "data": {
      "text/plain": [
       "0    45\n",
       "1    49\n",
       "2    51\n",
       "3    40\n",
       "4    40\n",
       "5    44\n",
       "6    51\n",
       "7    32\n",
       "8    37\n",
       "9    48\n",
       "Name: Idade, dtype: int64"
      ]
     },
     "execution_count": 5,
     "metadata": {},
     "output_type": "execute_result"
    }
   ],
   "source": [
    "df['Idade'][0:10] # para selecionar linhas, utilize um segundo par de colchetes"
   ]
  },
  {
   "cell_type": "code",
   "execution_count": 6,
   "id": "6f87a12f-a0f7-4339-8285-91fc70f78d5d",
   "metadata": {},
   "outputs": [
    {
     "data": {
      "text/html": [
       "<div>\n",
       "<style scoped>\n",
       "    .dataframe tbody tr th:only-of-type {\n",
       "        vertical-align: middle;\n",
       "    }\n",
       "\n",
       "    .dataframe tbody tr th {\n",
       "        vertical-align: top;\n",
       "    }\n",
       "\n",
       "    .dataframe thead th {\n",
       "        text-align: right;\n",
       "    }\n",
       "</style>\n",
       "<table border=\"1\" class=\"dataframe\">\n",
       "  <thead>\n",
       "    <tr style=\"text-align: right;\">\n",
       "      <th></th>\n",
       "      <th>Indicador</th>\n",
       "      <th>Genero</th>\n",
       "    </tr>\n",
       "  </thead>\n",
       "  <tbody>\n",
       "    <tr>\n",
       "      <th>0</th>\n",
       "      <td>0</td>\n",
       "      <td>M</td>\n",
       "    </tr>\n",
       "    <tr>\n",
       "      <th>1</th>\n",
       "      <td>0</td>\n",
       "      <td>F</td>\n",
       "    </tr>\n",
       "    <tr>\n",
       "      <th>2</th>\n",
       "      <td>0</td>\n",
       "      <td>M</td>\n",
       "    </tr>\n",
       "    <tr>\n",
       "      <th>3</th>\n",
       "      <td>0</td>\n",
       "      <td>F</td>\n",
       "    </tr>\n",
       "    <tr>\n",
       "      <th>4</th>\n",
       "      <td>0</td>\n",
       "      <td>M</td>\n",
       "    </tr>\n",
       "    <tr>\n",
       "      <th>5</th>\n",
       "      <td>0</td>\n",
       "      <td>M</td>\n",
       "    </tr>\n",
       "    <tr>\n",
       "      <th>6</th>\n",
       "      <td>0</td>\n",
       "      <td>M</td>\n",
       "    </tr>\n",
       "    <tr>\n",
       "      <th>7</th>\n",
       "      <td>0</td>\n",
       "      <td>M</td>\n",
       "    </tr>\n",
       "    <tr>\n",
       "      <th>8</th>\n",
       "      <td>0</td>\n",
       "      <td>M</td>\n",
       "    </tr>\n",
       "    <tr>\n",
       "      <th>9</th>\n",
       "      <td>0</td>\n",
       "      <td>M</td>\n",
       "    </tr>\n",
       "  </tbody>\n",
       "</table>\n",
       "</div>"
      ],
      "text/plain": [
       "   Indicador Genero\n",
       "0          0      M\n",
       "1          0      F\n",
       "2          0      M\n",
       "3          0      F\n",
       "4          0      M\n",
       "5          0      M\n",
       "6          0      M\n",
       "7          0      M\n",
       "8          0      M\n",
       "9          0      M"
      ]
     },
     "execution_count": 6,
     "metadata": {},
     "output_type": "execute_result"
    }
   ],
   "source": [
    "df[['Indicador','Genero']][0:10] # também funciona para mais de uma coluna"
   ]
  },
  {
   "cell_type": "markdown",
   "id": "6473938a-df34-4637-97ca-0c5ac8148a51",
   "metadata": {},
   "source": [
    "### Função `info()`\n",
    "\n",
    "\n",
    "Muitas informações importantes dos nossos dados podems ser obtidas através da função `info()`. Para executar a função, após o nome da sua variável que contém os dados, escreva `.info()` e execute a célula, como no exemplo a seguir. A saída conterá informações sobre o conjunto de dados como número de linhas, colunas, valores nulos e os tipos de dados de cada coluna. \n",
    "\n",
    "Essa é uma função muito útil para ter uma visão geral de nosso conjunto de dados e escolher quais passos seguir na sua análise."
   ]
  },
  {
   "cell_type": "code",
   "execution_count": 7,
   "id": "07287d5a-6b90-4202-a330-4e2cd7fa30bd",
   "metadata": {},
   "outputs": [
    {
     "name": "stdout",
     "output_type": "stream",
     "text": [
      "<class 'pandas.core.frame.DataFrame'>\n",
      "RangeIndex: 10127 entries, 0 to 10126\n",
      "Data columns (total 9 columns):\n",
      " #   Column          Non-Null Count  Dtype  \n",
      "---  ------          --------------  -----  \n",
      " 0   Indicador       10127 non-null  int64  \n",
      " 1   Idade           10127 non-null  int64  \n",
      " 2   Genero          10127 non-null  object \n",
      " 3   Dependentes     10127 non-null  int64  \n",
      " 4   Escolaridade    10127 non-null  object \n",
      " 5   Estado_Civil    9378 non-null   object \n",
      " 6   Renda           9015 non-null   object \n",
      " 7   Cartao          10127 non-null  object \n",
      " 8   Limite_Credito  10127 non-null  float64\n",
      "dtypes: float64(1), int64(3), object(5)\n",
      "memory usage: 712.2+ KB\n"
     ]
    }
   ],
   "source": [
    "df.info()"
   ]
  },
  {
   "cell_type": "markdown",
   "id": "dbb41159-3342-450e-b9d7-abddbd3c23f8",
   "metadata": {},
   "source": [
    "### Função `describe()`\n",
    "\n",
    "A função `describe()` possui um objetivo semelhante, com a diferença que ele irá retornar informações de estatística descritiva das colunas numéricas de nosso conjunto de dados. \n",
    "\n",
    "As estatísticas obtidas são:\n",
    "- count : Contagem\n",
    "\n",
    "É o número de observações daquela variável. Ou seja, é o número de linhas que possuem valores válidos para aquela coluna. Caso em certas linhas os valores para aquela coluna sejam nulos, por exemplo, esses valores não serão contados.\n",
    "\n",
    "- Média\n",
    "\n",
    "É a média aritmética dos valores válidos da coluna. A média aritmética é obtida a partir da soma de todos os valores observados dividida pelo número de observações.\n",
    "\n",
    "\n",
    "- std - Desvio-Padrão\n",
    "\n",
    "O desvio-padrão é uma medida de distribuição que mede quanto cada observação se distancia da média. Ele nos dá informações sobre a distribuição de valores das nossas observações. Quanto maior o valor do desvio-padrão, maior a variação dos valores observados com relação a média.\n",
    "\n",
    "- min e max - Mínimo e Máximo\n",
    "\n",
    "Esses são os valores mínimo e máximo para a coluna observada. \n",
    "\n",
    "- Mediana\n",
    "\n",
    "A mediana é uma medida de posição que corresponde ao valor que esteja localizado na metade da lista ordenada dos valores observados. Essa medida é útil pois ela reduz a influência de valores extremos, chamados de __outliers__. \n",
    "\n",
    "No caso da saída de nossa função `describe()`, a mediana é apresentada a partir de seus 'quartis', que são as posições relativas na lista ordenada de valores de nossas observações. \n",
    "\n",
    "O primeiro quartil corresponde ao valor apresentado como '25%' e ele apresenta o valor central entre o menor e metade da lista ordenada. Por definição, indica que até seu valor, 25% dos dados estarão incluídos. Isso também indica que apenas 25% dos valores é inferior ao primeiro quartil. \n",
    "\n",
    "O segundo quartil corresponde à mediana e é o valor que se encontra na posição central da lista ordenada de valores. Indica também que 50% dos valores é inferior ao valor da mediana. \n",
    "\n",
    "O terceiro quartil é o valor que se encontra na posição 75% da lista ordenada de valores.\n"
   ]
  },
  {
   "cell_type": "code",
   "execution_count": 8,
   "id": "75a4418c-cc3e-4200-b4a7-ffeaf3d4ec9e",
   "metadata": {},
   "outputs": [
    {
     "data": {
      "text/html": [
       "<div>\n",
       "<style scoped>\n",
       "    .dataframe tbody tr th:only-of-type {\n",
       "        vertical-align: middle;\n",
       "    }\n",
       "\n",
       "    .dataframe tbody tr th {\n",
       "        vertical-align: top;\n",
       "    }\n",
       "\n",
       "    .dataframe thead th {\n",
       "        text-align: right;\n",
       "    }\n",
       "</style>\n",
       "<table border=\"1\" class=\"dataframe\">\n",
       "  <thead>\n",
       "    <tr style=\"text-align: right;\">\n",
       "      <th></th>\n",
       "      <th>Indicador</th>\n",
       "      <th>Idade</th>\n",
       "      <th>Dependentes</th>\n",
       "      <th>Limite_Credito</th>\n",
       "    </tr>\n",
       "  </thead>\n",
       "  <tbody>\n",
       "    <tr>\n",
       "      <th>count</th>\n",
       "      <td>10127.000000</td>\n",
       "      <td>10127.000000</td>\n",
       "      <td>10127.000000</td>\n",
       "      <td>10127.000000</td>\n",
       "    </tr>\n",
       "    <tr>\n",
       "      <th>mean</th>\n",
       "      <td>0.160660</td>\n",
       "      <td>46.325960</td>\n",
       "      <td>2.346203</td>\n",
       "      <td>8631.953698</td>\n",
       "    </tr>\n",
       "    <tr>\n",
       "      <th>std</th>\n",
       "      <td>0.367235</td>\n",
       "      <td>8.016814</td>\n",
       "      <td>1.298908</td>\n",
       "      <td>9088.776650</td>\n",
       "    </tr>\n",
       "    <tr>\n",
       "      <th>min</th>\n",
       "      <td>0.000000</td>\n",
       "      <td>26.000000</td>\n",
       "      <td>0.000000</td>\n",
       "      <td>1438.300000</td>\n",
       "    </tr>\n",
       "    <tr>\n",
       "      <th>25%</th>\n",
       "      <td>0.000000</td>\n",
       "      <td>41.000000</td>\n",
       "      <td>1.000000</td>\n",
       "      <td>2555.000000</td>\n",
       "    </tr>\n",
       "    <tr>\n",
       "      <th>50%</th>\n",
       "      <td>0.000000</td>\n",
       "      <td>46.000000</td>\n",
       "      <td>2.000000</td>\n",
       "      <td>4549.000000</td>\n",
       "    </tr>\n",
       "    <tr>\n",
       "      <th>75%</th>\n",
       "      <td>0.000000</td>\n",
       "      <td>52.000000</td>\n",
       "      <td>3.000000</td>\n",
       "      <td>11067.500000</td>\n",
       "    </tr>\n",
       "    <tr>\n",
       "      <th>max</th>\n",
       "      <td>1.000000</td>\n",
       "      <td>73.000000</td>\n",
       "      <td>5.000000</td>\n",
       "      <td>34516.000000</td>\n",
       "    </tr>\n",
       "  </tbody>\n",
       "</table>\n",
       "</div>"
      ],
      "text/plain": [
       "          Indicador         Idade   Dependentes  Limite_Credito\n",
       "count  10127.000000  10127.000000  10127.000000    10127.000000\n",
       "mean       0.160660     46.325960      2.346203     8631.953698\n",
       "std        0.367235      8.016814      1.298908     9088.776650\n",
       "min        0.000000     26.000000      0.000000     1438.300000\n",
       "25%        0.000000     41.000000      1.000000     2555.000000\n",
       "50%        0.000000     46.000000      2.000000     4549.000000\n",
       "75%        0.000000     52.000000      3.000000    11067.500000\n",
       "max        1.000000     73.000000      5.000000    34516.000000"
      ]
     },
     "execution_count": 8,
     "metadata": {},
     "output_type": "execute_result"
    }
   ],
   "source": [
    "df.describe()"
   ]
  },
  {
   "cell_type": "markdown",
   "id": "6b35a7fd-0eaa-4578-8c1b-6a9aceae6a2e",
   "metadata": {},
   "source": [
    "### Funções de Estatística Descritiva\n",
    "\n",
    "DataFrames são variáveis muito úteis para a análise descritiva de um conjunto de dados pois possuem funções para a obtenção de valores de forma simples. \n",
    "\n",
    "Para obter o número total de linhas de nosso conjunto, podemos utilizar a função `len()` ou a variável `shape` de nosso DataFrame. "
   ]
  },
  {
   "cell_type": "code",
   "execution_count": 9,
   "id": "f6f1d647-2a6f-4a3b-9cfb-a393cc3e61aa",
   "metadata": {},
   "outputs": [
    {
     "data": {
      "text/plain": [
       "10127"
      ]
     },
     "execution_count": 9,
     "metadata": {},
     "output_type": "execute_result"
    }
   ],
   "source": [
    "len(df)"
   ]
  },
  {
   "cell_type": "code",
   "execution_count": 10,
   "id": "056ea7da-ae3b-4a98-a690-3afbf043ad6d",
   "metadata": {},
   "outputs": [
    {
     "data": {
      "text/plain": [
       "(10127, 9)"
      ]
     },
     "execution_count": 10,
     "metadata": {},
     "output_type": "execute_result"
    }
   ],
   "source": [
    "df.shape"
   ]
  },
  {
   "cell_type": "markdown",
   "id": "8a5f1f0e-9b51-4661-920f-d782b3150b23",
   "metadata": {},
   "source": [
    "Para obter o máximo e mínimo de uma coluna ou de todas as colunas, basta utilizar as funções `max()` e `min()`."
   ]
  },
  {
   "cell_type": "code",
   "execution_count": 11,
   "id": "48b80d5a-b92d-4646-b148-dfc36897d207",
   "metadata": {},
   "outputs": [
    {
     "data": {
      "text/plain": [
       "73"
      ]
     },
     "execution_count": 11,
     "metadata": {},
     "output_type": "execute_result"
    }
   ],
   "source": [
    "df['Idade'].max()"
   ]
  },
  {
   "cell_type": "markdown",
   "id": "4329e319-7fe7-4579-b079-66b2312382a0",
   "metadata": {},
   "source": [
    "### Distribuição de Valores\n",
    "\n",
    "Os valores observados podem estar distribuídos de forma diferente. Temos uma função chamada `value_counts()` que mostra o número de observações para cada valor na coluna observada. Vamos aplicar essa função na nossa coluna de Indicador, assim vamos saber quantas pessoas evadiram nosso serviço de cartão de crédito."
   ]
  },
  {
   "cell_type": "code",
   "execution_count": 12,
   "id": "166d8f62-c37b-42b5-b4ea-16be9620d535",
   "metadata": {},
   "outputs": [
    {
     "data": {
      "text/plain": [
       "0    8500\n",
       "1    1627\n",
       "Name: Indicador, dtype: int64"
      ]
     },
     "execution_count": 12,
     "metadata": {},
     "output_type": "execute_result"
    }
   ],
   "source": [
    "df['Indicador'].value_counts()"
   ]
  },
  {
   "cell_type": "code",
   "execution_count": 13,
   "id": "b9fa1f39-69f1-414e-991b-3c52b0444913",
   "metadata": {},
   "outputs": [
    {
     "data": {
      "text/plain": [
       "Blue        0.931767\n",
       "Silver      0.054804\n",
       "Gold        0.011455\n",
       "Platinum    0.001975\n",
       "Name: Cartao, dtype: float64"
      ]
     },
     "execution_count": 13,
     "metadata": {},
     "output_type": "execute_result"
    }
   ],
   "source": [
    "df['Cartao'].value_counts(normalize=True)"
   ]
  },
  {
   "cell_type": "code",
   "execution_count": null,
   "id": "d772b162-c5aa-4aa3-9c9a-2205bcfadfb1",
   "metadata": {},
   "outputs": [],
   "source": []
  },
  {
   "cell_type": "code",
   "execution_count": null,
   "id": "a4d147b2-febd-4ea2-a5af-e728b8430e8a",
   "metadata": {},
   "outputs": [],
   "source": []
  }
 ],
 "metadata": {
  "kernelspec": {
   "display_name": "Python 3",
   "language": "python",
   "name": "python3"
  },
  "language_info": {
   "codemirror_mode": {
    "name": "ipython",
    "version": 3
   },
   "file_extension": ".py",
   "mimetype": "text/x-python",
   "name": "python",
   "nbconvert_exporter": "python",
   "pygments_lexer": "ipython3",
   "version": "3.6.8"
  }
 },
 "nbformat": 4,
 "nbformat_minor": 5
}
